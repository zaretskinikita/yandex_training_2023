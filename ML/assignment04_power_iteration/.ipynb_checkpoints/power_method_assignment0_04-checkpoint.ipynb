{
 "cells": [
  {
   "cell_type": "markdown",
   "metadata": {
    "id": "-2pjXks_0tmd"
   },
   "source": [
    "## Задача №4: Степенной метод"
   ]
  },
  {
   "cell_type": "markdown",
   "metadata": {
    "id": "WPYirA190tmg"
   },
   "source": [
    "Ваша задача – реализовать степенной метод вычисления собственных значений и собственных векторов и протестировать его на синтетических данных. Подробности можно найти на [Википедии](https://ru.wikipedia.org/wiki/Степенной_метод).\n",
    "\n",
    "Пожалуйста, обратите внимание, что предложенный метод должен быть применим также для вычисления наименьшего собственного значения (по абсолютной величине).\n",
    "\n",
    "На всякий случай, для собственного значения $\\lambda$ и собственного вектора $\\boldsymbol{x}$ матрицы $\\mathbf{A}$ справедливо следующее уравнение:\n",
    "$$\n",
    "\\mathbf{A}\\boldsymbol{x} = \\lambda \\boldsymbol{x}\n",
    "$$"
   ]
  },
  {
   "cell_type": "code",
   "execution_count": 1,
   "metadata": {
    "ExecuteTime": {
     "end_time": "2020-02-11T07:08:51.904850Z",
     "start_time": "2020-02-11T07:08:50.413258Z"
    },
    "id": "4pqgXdtr0tmh"
   },
   "outputs": [],
   "source": [
    "import numpy as np\n",
    "from power_iteration import get_dominant_eigenvalue_and_eigenvector"
   ]
  },
  {
   "cell_type": "code",
   "execution_count": 7,
   "metadata": {},
   "outputs": [],
   "source": [
    "def get_dominant_eigenvalue_and_eigenvector(A, num_steps):\n",
    "    \"\"\"\n",
    "    data: np.ndarray – symmetric diagonalizable real-valued matrix\n",
    "    num_steps: int – number of power method steps\n",
    "\n",
    "    Returns:\n",
    "    eigenvalue: float – dominant eigenvalue estimation after `num_steps` steps\n",
    "    eigenvector: np.ndarray – corresponding eigenvector estimation\n",
    "    \"\"\"\n",
    "    \n",
    "    r = np.random.rand(A.shape[0])\n",
    "    for i in range(num_steps):\n",
    "        r = A.dot(r) / np.sum(A.dot(r))\n",
    "    mu = float(r.T.dot(A.dot(r)) / r.dot(r))    \n",
    "    return mu, r / (np.sum(r ** 2))**0.5"
   ]
  },
  {
   "cell_type": "code",
   "execution_count": 8,
   "metadata": {},
   "outputs": [
    {
     "data": {
      "text/plain": [
       "(12.402891306265417, array([ 0.04027027, -0.61297735,  0.78907355]))"
      ]
     },
     "execution_count": 8,
     "metadata": {},
     "output_type": "execute_result"
    }
   ],
   "source": [
    "size = np.random.choice(np.arange(2, 5))\n",
    "data = np.random.randn(size, size)\n",
    "data = data.T.dot(data)\n",
    "get_dominant_eigenvalue_and_eigenvector(data, 100)"
   ]
  },
  {
   "cell_type": "code",
   "execution_count": 9,
   "metadata": {},
   "outputs": [
    {
     "data": {
      "text/plain": [
       "array([[ 3.2751027 ,  1.65274192,  1.74973793],\n",
       "       [ 1.65274192,  6.01052907, -5.05013715],\n",
       "       [ 1.74973793, -5.05013715,  8.39048698]])"
      ]
     },
     "execution_count": 9,
     "metadata": {},
     "output_type": "execute_result"
    }
   ],
   "source": [
    "data"
   ]
  },
  {
   "cell_type": "markdown",
   "metadata": {},
   "source": [
    "Для вашего удобства реализовано несколько тестов ниже. В качестве корректного примера используется функция из numpy."
   ]
  },
  {
   "cell_type": "code",
   "execution_count": 10,
   "metadata": {},
   "outputs": [],
   "source": [
    "def get_eigenvalues_and_eigenvectors_with_numpy(data):\n",
    "    _eigenvalues, _eigenvectors = np.linalg.eig(data)\n",
    "    max_index = np.argmax(np.abs(_eigenvalues))\n",
    "    min_index = np.argmin(np.abs(_eigenvalues))\n",
    "\n",
    "    _test_pair_a = np.array([_eigenvalues[max_index], _eigenvalues[min_index]])\n",
    "    _test_pair_b = np.array([_eigenvectors[:, max_index], _eigenvectors[:, min_index]])\n",
    "    if _test_pair_b[0][0] < 0:\n",
    "        _test_pair_b[0] *= -1\n",
    "    if _test_pair_b[1][0] < 0:\n",
    "        _test_pair_b[1] *= -1\n",
    "\n",
    "    return _test_pair_a, _test_pair_b"
   ]
  },
  {
   "cell_type": "code",
   "execution_count": 11,
   "metadata": {},
   "outputs": [
    {
     "name": "stdout",
     "output_type": "stream",
     "text": [
      "Seems fine! Copy function `get_dominant_eigenvalue_and_eigenvector` to the .py file and submit your solution to the contest!\n"
     ]
    }
   ],
   "source": [
    "for _ in range(1000):\n",
    "    size = np.random.choice(np.arange(2, 5))\n",
    "    data = np.random.randn(size, size)\n",
    "    data = data.T.dot(data)\n",
    "    a0, b0 = get_dominant_eigenvalue_and_eigenvector(data, 1000)\n",
    "    assert (\n",
    "        type(a0) == float\n",
    "    ), \"Return type for eigenvalue is not Python float (please, note, numpy.float64 is a different type)\"\n",
    "    assert type(b0) == np.ndarray, \"Return type for eigenvector is not np.ndarray\"\n",
    "\n",
    "    a1, b1 = get_dominant_eigenvalue_and_eigenvector(np.linalg.inv(data), 1000)\n",
    "    a1 = 1 / a1\n",
    "\n",
    "    if b0[0] < 0:\n",
    "        b0 *= -1\n",
    "    if b1[0] < 0:\n",
    "        b1 *= -1\n",
    "\n",
    "    assert np.allclose(\n",
    "        data.dot(b0), a0 * b0, atol=1e-3\n",
    "    ), f\"Ax != \\lambda x for the dominant eigenvalue check the solution!\\n{data.dot(b0), a0 * b0}\"\n",
    "    assert np.allclose(\n",
    "        data.dot(b1), a1 * b1, atol=1e-3\n",
    "    ), f\"Ax != \\lambda x for the smallest eigenvalue check the solution!\\n{data.dot(b1), a1 * b1}\"\n",
    "\n",
    "    _test_pair_a, _test_pair_b = get_eigenvalues_and_eigenvectors_with_numpy(data)\n",
    "\n",
    "    assert np.allclose(\n",
    "        _test_pair_a, np.array([a0, a1]), atol=1e-3\n",
    "    ), f\"Eigenvalues are different from np.linalg.eig!\\n{_test_pair_a, np.array([a0, a1])}\"\n",
    "    assert np.allclose(\n",
    "        _test_pair_b, np.array([b0, b1]), atol=1e-3\n",
    "    ), f\"Eigenvectors are different from np.linalg.eig!\\n{_test_pair_b, np.array([b0, b1])}\"\n",
    "\n",
    "print(\n",
    "    \"Seems fine! Copy function `get_dominant_eigenvalue_and_eigenvector` to the .py file and submit your solution to the contest!\"\n",
    ")"
   ]
  },
  {
   "cell_type": "code",
   "execution_count": null,
   "metadata": {},
   "outputs": [],
   "source": []
  },
  {
   "cell_type": "code",
   "execution_count": null,
   "metadata": {},
   "outputs": [],
   "source": []
  }
 ],
 "metadata": {
  "colab": {
   "provenance": []
  },
  "kernelspec": {
   "display_name": "Python 3 (ipykernel)",
   "language": "python",
   "name": "python3"
  },
  "language_info": {
   "codemirror_mode": {
    "name": "ipython",
    "version": 3
   },
   "file_extension": ".py",
   "mimetype": "text/x-python",
   "name": "python",
   "nbconvert_exporter": "python",
   "pygments_lexer": "ipython3",
   "version": "3.8.16"
  }
 },
 "nbformat": 4,
 "nbformat_minor": 1
}
